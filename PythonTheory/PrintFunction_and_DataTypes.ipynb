{
 "cells": [
  {
   "cell_type": "markdown",
   "id": "d5391e49",
   "metadata": {},
   "source": [
    "## Print Function()"
   ]
  },
  {
   "cell_type": "code",
   "execution_count": 1,
   "id": "a268ae99",
   "metadata": {},
   "outputs": [
    {
     "name": "stdout",
     "output_type": "stream",
     "text": [
      "hello world\n"
     ]
    }
   ],
   "source": [
    "print(\"hello world\")"
   ]
  },
  {
   "cell_type": "code",
   "execution_count": 2,
   "id": "dac1d039",
   "metadata": {},
   "outputs": [
    {
     "name": "stdout",
     "output_type": "stream",
     "text": [
      "5\n"
     ]
    }
   ],
   "source": [
    "print(5)"
   ]
  },
  {
   "cell_type": "code",
   "execution_count": 3,
   "id": "324e7c1b",
   "metadata": {},
   "outputs": [
    {
     "name": "stdout",
     "output_type": "stream",
     "text": [
      "8.4\n"
     ]
    }
   ],
   "source": [
    "print(8.4)"
   ]
  },
  {
   "cell_type": "code",
   "execution_count": 4,
   "id": "e8d4f616",
   "metadata": {},
   "outputs": [
    {
     "name": "stdout",
     "output_type": "stream",
     "text": [
      "False\n"
     ]
    }
   ],
   "source": [
    "print(False)"
   ]
  },
  {
   "cell_type": "code",
   "execution_count": 6,
   "id": "ff228e70",
   "metadata": {},
   "outputs": [
    {
     "name": "stdout",
     "output_type": "stream",
     "text": [
      "Prakash 5 True\n"
     ]
    }
   ],
   "source": [
    "print(\"Prakash\",5,True)"
   ]
  },
  {
   "cell_type": "code",
   "execution_count": 9,
   "id": "334832d2",
   "metadata": {},
   "outputs": [
    {
     "name": "stdout",
     "output_type": "stream",
     "text": [
      "Prakash Priyansh Anusha Aditya\n"
     ]
    }
   ],
   "source": [
    "print(\"Prakash\",\"Priyansh\",\"Anusha\",\"Aditya\")  # By Default sep=\" \""
   ]
  },
  {
   "cell_type": "code",
   "execution_count": 10,
   "id": "2d882edf",
   "metadata": {},
   "outputs": [
    {
     "name": "stdout",
     "output_type": "stream",
     "text": [
      "Prakash?Priyansh?Anusha?Aditya\n"
     ]
    }
   ],
   "source": [
    "print(\"Prakash\",\"Priyansh\",\"Anusha\",\"Aditya\",sep=\"?\")"
   ]
  },
  {
   "cell_type": "code",
   "execution_count": 11,
   "id": "19a349c6",
   "metadata": {},
   "outputs": [
    {
     "name": "stdout",
     "output_type": "stream",
     "text": [
      "Prakash-Priyansh-Anusha-Aditya\n"
     ]
    }
   ],
   "source": [
    "print(\"Prakash\",\"Priyansh\",\"Anusha\",\"Aditya\",sep='-')"
   ]
  },
  {
   "cell_type": "code",
   "execution_count": 13,
   "id": "f8427db1",
   "metadata": {},
   "outputs": [
    {
     "name": "stdout",
     "output_type": "stream",
     "text": [
      "Hello\n",
      "World\n"
     ]
    }
   ],
   "source": [
    "print(\"Hello\")\n",
    "print(\"World\") \n",
    "# by default end=\"\\n\""
   ]
  },
  {
   "cell_type": "code",
   "execution_count": 14,
   "id": "55202e66",
   "metadata": {},
   "outputs": [
    {
     "name": "stdout",
     "output_type": "stream",
     "text": [
      "hello world\n"
     ]
    }
   ],
   "source": [
    "print(\"hello\",end=' ')\n",
    "print(\"world\")"
   ]
  },
  {
   "cell_type": "code",
   "execution_count": 15,
   "id": "0e6cd5b5",
   "metadata": {},
   "outputs": [
    {
     "name": "stdout",
     "output_type": "stream",
     "text": [
      "4\n",
      "inf\n"
     ]
    }
   ],
   "source": [
    "print(4)\n",
    "print(1e309)"
   ]
  },
  {
   "cell_type": "markdown",
   "id": "9b4267c9",
   "metadata": {},
   "source": [
    "## Python supports 3 categories of data types: <br><br>\n",
    "\n",
    "Basic Types - (integer,float,complex,boolean and string)<br>\n",
    "Container Types - (List,Tuples, Sets and Dictionary)<br>\n",
    "User-defined Types - Class<br>"
   ]
  },
  {
   "cell_type": "markdown",
   "id": "1ed2419b",
   "metadata": {},
   "source": [
    "### Basic Types"
   ]
  },
  {
   "cell_type": "code",
   "execution_count": 21,
   "id": "24d34a5a",
   "metadata": {},
   "outputs": [
    {
     "name": "stdout",
     "output_type": "stream",
     "text": [
      "89\n",
      "1e+308\n",
      "inf\n"
     ]
    }
   ],
   "source": [
    "# integer\n",
    "print(89)\n",
    "print(1e308)\n",
    "print(1e309)"
   ]
  },
  {
   "cell_type": "code",
   "execution_count": 20,
   "id": "88bb2d2d",
   "metadata": {},
   "outputs": [
    {
     "name": "stdout",
     "output_type": "stream",
     "text": [
      "4.5\n",
      "1.7e+308\n",
      "inf\n"
     ]
    }
   ],
   "source": [
    "# float\n",
    "print(4.5)\n",
    "print(1.7e308)\n",
    "print(1.7e309)"
   ]
  },
  {
   "cell_type": "code",
   "execution_count": 22,
   "id": "316df565",
   "metadata": {},
   "outputs": [
    {
     "name": "stdout",
     "output_type": "stream",
     "text": [
      "True\n",
      "False\n"
     ]
    }
   ],
   "source": [
    "# boolean\n",
    "print(True)\n",
    "print(False)"
   ]
  },
  {
   "cell_type": "code",
   "execution_count": 24,
   "id": "65b5aabe",
   "metadata": {},
   "outputs": [
    {
     "name": "stdout",
     "output_type": "stream",
     "text": [
      "(1+59j)\n"
     ]
    }
   ],
   "source": [
    "# complex\n",
    "print(1+59j)"
   ]
  },
  {
   "cell_type": "code",
   "execution_count": 26,
   "id": "12f29fec",
   "metadata": {},
   "outputs": [
    {
     "name": "stdout",
     "output_type": "stream",
     "text": [
      "Hubli\n",
      "Hubli\n",
      "Hubli\n"
     ]
    }
   ],
   "source": [
    "# string\n",
    "print('Hubli')\n",
    "print(\"Hubli\")\n",
    "print(\"\"\"Hubli\"\"\")"
   ]
  },
  {
   "cell_type": "markdown",
   "id": "bcb057a2",
   "metadata": {},
   "source": [
    "### Container Types"
   ]
  },
  {
   "cell_type": "code",
   "execution_count": 28,
   "id": "ee5ac10f",
   "metadata": {},
   "outputs": [
    {
     "name": "stdout",
     "output_type": "stream",
     "text": [
      "[1, 2, 3, 4, 5]\n",
      "1\n"
     ]
    }
   ],
   "source": [
    "# list\n",
    "lst=[1,2,3,4,5]\n",
    "print(lst)\n",
    "print(lst[0])"
   ]
  },
  {
   "cell_type": "code",
   "execution_count": 30,
   "id": "fd2d9455",
   "metadata": {},
   "outputs": [
    {
     "name": "stdout",
     "output_type": "stream",
     "text": [
      "[10, 2, 3, 4, 5]\n"
     ]
    }
   ],
   "source": [
    "# lists are mutable\n",
    "lst[0]=10\n",
    "print(lst)"
   ]
  },
  {
   "cell_type": "code",
   "execution_count": 32,
   "id": "06f1c639",
   "metadata": {},
   "outputs": [
    {
     "name": "stdout",
     "output_type": "stream",
     "text": [
      "(1, 2, 3, 4, 5)\n",
      "1\n"
     ]
    },
    {
     "ename": "TypeError",
     "evalue": "'tuple' object does not support item assignment",
     "output_type": "error",
     "traceback": [
      "\u001b[0;31m---------------------------------------------------------------------------\u001b[0m",
      "\u001b[0;31mTypeError\u001b[0m                                 Traceback (most recent call last)",
      "Input \u001b[0;32mIn [32]\u001b[0m, in \u001b[0;36m<cell line: 7>\u001b[0;34m()\u001b[0m\n\u001b[1;32m      4\u001b[0m \u001b[38;5;28mprint\u001b[39m(tup[\u001b[38;5;241m0\u001b[39m])\n\u001b[1;32m      6\u001b[0m \u001b[38;5;66;03m# tuples are immutable\u001b[39;00m\n\u001b[0;32m----> 7\u001b[0m tup[\u001b[38;5;241m0\u001b[39m]\u001b[38;5;241m=\u001b[39m\u001b[38;5;241m10\u001b[39m\n\u001b[1;32m      8\u001b[0m \u001b[38;5;28mprint\u001b[39m(tup)\n",
      "\u001b[0;31mTypeError\u001b[0m: 'tuple' object does not support item assignment"
     ]
    }
   ],
   "source": [
    "# tuple\n",
    "tup=(1,2,3,4,5)\n",
    "print(tup)\n",
    "print(tup[0])\n",
    "\n",
    "# tuples are immutable\n",
    "tup[0]=10\n",
    "print(tup)"
   ]
  },
  {
   "cell_type": "code",
   "execution_count": 33,
   "id": "7211393b",
   "metadata": {},
   "outputs": [
    {
     "name": "stdout",
     "output_type": "stream",
     "text": [
      "{1, 2, 4, 5}\n"
     ]
    }
   ],
   "source": [
    "#sets\n",
    "sett={1,2,5,4,5}\n",
    "print(sett)"
   ]
  },
  {
   "cell_type": "code",
   "execution_count": 35,
   "id": "38c376e9",
   "metadata": {},
   "outputs": [
    {
     "name": "stdout",
     "output_type": "stream",
     "text": [
      "{'Name': 'Prakash', 'Age': 20, 'gender': 'Male'}\n",
      "Prakash\n"
     ]
    }
   ],
   "source": [
    "# dict\n",
    "dictt={\"Name\":\"Prakash\",\"Age\":20,\"gender\":\"Male\"}\n",
    "print(dictt)\n",
    "print(dictt[\"Name\"])"
   ]
  },
  {
   "cell_type": "code",
   "execution_count": null,
   "id": "3bc32766",
   "metadata": {},
   "outputs": [],
   "source": []
  }
 ],
 "metadata": {
  "kernelspec": {
   "display_name": "Python 3 (ipykernel)",
   "language": "python",
   "name": "python3"
  },
  "language_info": {
   "codemirror_mode": {
    "name": "ipython",
    "version": 3
   },
   "file_extension": ".py",
   "mimetype": "text/x-python",
   "name": "python",
   "nbconvert_exporter": "python",
   "pygments_lexer": "ipython3",
   "version": "3.10.4"
  }
 },
 "nbformat": 4,
 "nbformat_minor": 5
}
